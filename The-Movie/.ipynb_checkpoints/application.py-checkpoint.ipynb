{
 "cells": [
  {
   "cell_type": "code",
   "execution_count": null,
   "id": "1340a6f2",
   "metadata": {},
   "outputs": [],
   "source": [
    "from flask import Flask\n",
    "\n",
    "# print a nice greeting.\n",
    "def say_hello(username = \"World\"):\n",
    "    return '<p>Hello %s!</p>\\n' % username\n",
    "\n",
    "# some bits of text for the page.\n",
    "header_text = '''\n",
    "    <html>\\n<head> <title>EB Flask Test</title> </head>\\n<body>'''\n",
    "instructions = '''\n",
    "    <p><em>Hint</em>: This is a RESTful web service! Append a username\n",
    "    to the URL (for example: <code>/Thelonious</code>) to say hello to\n",
    "    someone specific.</p>\\n'''\n",
    "home_link = '<p><a href=\"/\">Back</a></p>\\n'\n",
    "footer_text = '</body>\\n</html>'\n",
    "\n",
    "# EB looks for an 'application' callable by default.\n",
    "application = Flask(__name__)\n",
    "\n",
    "# add a rule for the index page.\n",
    "application.add_url_rule('/', 'index', (lambda: header_text +\n",
    "    say_hello() + instructions + footer_text))\n",
    "\n",
    "# add a rule when the page is accessed with a name appended to the site\n",
    "# URL.\n",
    "application.add_url_rule('/<username>', 'hello', (lambda username:\n",
    "    header_text + say_hello(username) + home_link + footer_text))\n",
    "\n",
    "# run the app.\n",
    "if __name__ == \"__main__\":\n",
    "    # Setting debug to True enables debug output. This line should be\n",
    "    # removed before deploying a production app.\n",
    "    application.debug = True\n",
    "    application.run()"
   ]
  }
 ],
 "metadata": {
  "kernelspec": {
   "display_name": "Python 3 (ipykernel)",
   "language": "python",
   "name": "python3"
  },
  "language_info": {
   "codemirror_mode": {
    "name": "ipython",
    "version": 3
   },
   "file_extension": ".py",
   "mimetype": "text/x-python",
   "name": "python",
   "nbconvert_exporter": "python",
   "pygments_lexer": "ipython3",
   "version": "3.9.7"
  }
 },
 "nbformat": 4,
 "nbformat_minor": 5
}
