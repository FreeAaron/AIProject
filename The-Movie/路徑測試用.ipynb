{
 "cells": [
  {
   "cell_type": "code",
   "execution_count": 1,
   "metadata": {},
   "outputs": [
    {
     "data": {
      "text/plain": [
       "'C:\\\\Users\\\\chulove\\\\anaconda3'"
      ]
     },
     "execution_count": 1,
     "metadata": {},
     "output_type": "execute_result"
    }
   ],
   "source": [
    ">>> import os\n",
    ">>> import sys\n",
    ">>> os.path.dirname(sys.executable)"
   ]
  },
  {
   "cell_type": "code",
   "execution_count": 2,
   "metadata": {},
   "outputs": [
    {
     "name": "stdout",
     "output_type": "stream",
     "text": [
      "C:\\Users\\chulove\\the examples \n",
      "\n",
      "C:\\Users\\chulove\\anaconda3\\python39.zip \n",
      "\n",
      "C:\\Users\\chulove\\anaconda3\\DLLs \n",
      "\n",
      "C:\\Users\\chulove\\anaconda3\\lib \n",
      "\n",
      "C:\\Users\\chulove\\anaconda3 \n",
      "\n",
      " \n",
      "\n",
      "C:\\Users\\chulove\\anaconda3\\lib\\site-packages \n",
      "\n",
      "C:\\Users\\chulove\\anaconda3\\lib\\site-packages\\locket-0.2.1-py3.9.egg \n",
      "\n",
      "C:\\Users\\chulove\\anaconda3\\lib\\site-packages\\win32 \n",
      "\n",
      "C:\\Users\\chulove\\anaconda3\\lib\\site-packages\\win32\\lib \n",
      "\n",
      "C:\\Users\\chulove\\anaconda3\\lib\\site-packages\\Pythonwin \n",
      "\n",
      "C:\\Users\\chulove\\anaconda3\\lib\\site-packages\\IPython\\extensions \n",
      "\n",
      "C:\\Users\\chulove\\.ipython \n",
      "\n",
      "os: C:\\Users\\chulove\\anaconda3\n"
     ]
    }
   ],
   "source": [
    "import sys\n",
    "\n",
    "import os\n",
    "\n",
    "for i in sys.path:\n",
    "    print(i,\"\\n\")\n",
    "\n",
    "print(\"os:\",os.path.dirname(sys.executable))"
   ]
  },
  {
   "cell_type": "code",
   "execution_count": 5,
   "metadata": {},
   "outputs": [],
   "source": [
    "import numpy as np\n",
    "import flask"
   ]
  },
  {
   "cell_type": "code",
   "execution_count": 7,
   "metadata": {},
   "outputs": [
    {
     "name": "stdout",
     "output_type": "stream",
     "text": [
      "Collecting requests\n",
      "  Using cached requests-2.27.1-py2.py3-none-any.whl (63 kB)\n",
      "Requirement already satisfied: certifi>=2017.4.17 in c:\\users\\chulove\\anaconda3\\envs\\env310\\lib\\site-packages (from requests) (2020.6.20)\n",
      "Collecting urllib3<1.27,>=1.21.1\n",
      "  Using cached urllib3-1.26.9-py2.py3-none-any.whl (138 kB)\n",
      "Collecting charset-normalizer~=2.0.0\n",
      "  Using cached charset_normalizer-2.0.12-py3-none-any.whl (39 kB)\n",
      "Collecting idna<4,>=2.5\n",
      "  Using cached idna-3.3-py3-none-any.whl (61 kB)\n",
      "Installing collected packages: urllib3, idna, charset-normalizer, requests\n",
      "Successfully installed charset-normalizer-2.0.12 idna-3.3 requests-2.27.1 urllib3-1.26.9\n"
     ]
    }
   ],
   "source": [
    "!pip install requests"
   ]
  },
  {
   "cell_type": "code",
   "execution_count": null,
   "metadata": {},
   "outputs": [],
   "source": []
  }
 ],
 "metadata": {
  "kernelspec": {
   "display_name": "Python 3 (ipykernel)",
   "language": "python",
   "name": "python3"
  },
  "language_info": {
   "codemirror_mode": {
    "name": "ipython",
    "version": 3
   },
   "file_extension": ".py",
   "mimetype": "text/x-python",
   "name": "python",
   "nbconvert_exporter": "python",
   "pygments_lexer": "ipython3",
   "version": "3.9.7"
  }
 },
 "nbformat": 4,
 "nbformat_minor": 4
}
