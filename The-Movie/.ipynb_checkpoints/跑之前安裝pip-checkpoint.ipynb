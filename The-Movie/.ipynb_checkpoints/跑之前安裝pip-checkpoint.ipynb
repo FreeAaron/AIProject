{
 "cells": [
  {
   "cell_type": "code",
   "execution_count": 1,
   "id": "61aa9c87",
   "metadata": {},
   "outputs": [
    {
     "name": "stdout",
     "output_type": "stream",
     "text": [
      "Collecting Flask==1.1.1\n",
      "  Using cached Flask-1.1.1-py2.py3-none-any.whl (94 kB)\n",
      "Collecting gunicorn==19.9.0\n",
      "  Using cached gunicorn-19.9.0-py2.py3-none-any.whl (112 kB)\n",
      "Collecting Jinja2==2.11.3\n",
      "  Using cached Jinja2-2.11.3-py2.py3-none-any.whl (125 kB)\n",
      "Collecting MarkupSafe==1.1.1\n"
     ]
    },
    {
     "name": "stderr",
     "output_type": "stream",
     "text": [
      "ERROR: Cannot install Flask==1.1.1 and Flask==1.1.2 because these package versions have conflicting dependencies.\n",
      "ERROR: ResolutionImpossible: for help visit https://pip.pypa.io/en/latest/user_guide/#fixing-conflicting-dependencies\n"
     ]
    },
    {
     "name": "stdout",
     "output_type": "stream",
     "text": [
      "  Using cached MarkupSafe-1.1.1-cp38-cp38-win_amd64.whl (16 kB)\n",
      "Collecting Werkzeug==0.15.5\n",
      "  Using cached Werkzeug-0.15.5-py2.py3-none-any.whl (328 kB)\n",
      "Requirement already satisfied: numpy>=1.9.2 in c:\\programdata\\anaconda3\\envs\\python_course\\lib\\site-packages (from -r requirements.txt (line 6)) (1.21.5)\n",
      "Requirement already satisfied: scipy>=0.15.1 in c:\\programdata\\anaconda3\\envs\\python_course\\lib\\site-packages (from -r requirements.txt (line 7)) (1.8.0)\n",
      "Collecting nltk==3.5\n",
      "  Using cached nltk-3.5.zip (1.4 MB)\n",
      "Requirement already satisfied: scikit-learn>=0.18 in c:\\programdata\\anaconda3\\envs\\python_course\\lib\\site-packages (from -r requirements.txt (line 9)) (1.0.2)\n",
      "Requirement already satisfied: pandas>=0.19 in c:\\programdata\\anaconda3\\envs\\python_course\\lib\\site-packages (from -r requirements.txt (line 10)) (1.4.1)\n",
      "Collecting beautifulsoup4==4.9.1\n",
      "  Using cached beautifulsoup4-4.9.1-py3-none-any.whl (115 kB)\n",
      "Requirement already satisfied: jsonschema==3.2.0 in c:\\programdata\\anaconda3\\envs\\python_course\\lib\\site-packages (from -r requirements.txt (line 12)) (3.2.0)\n",
      "Collecting tmdbv3api==1.6.1\n",
      "  Using cached tmdbv3api-1.6.1-py2.py3-none-any.whl (13 kB)\n",
      "Collecting lxml==4.6.3\n",
      "  Using cached lxml-4.6.3-cp38-cp38-win_amd64.whl (3.5 MB)\n",
      "Requirement already satisfied: urllib3==1.26.5 in c:\\programdata\\anaconda3\\envs\\python_course\\lib\\site-packages (from -r requirements.txt (line 15)) (1.26.5)\n",
      "Collecting requests==2.23.0\n",
      "  Using cached requests-2.23.0-py2.py3-none-any.whl (58 kB)\n",
      "Requirement already satisfied: pickleshare==0.7.5 in c:\\programdata\\anaconda3\\envs\\python_course\\lib\\site-packages (from -r requirements.txt (line 17)) (0.7.5)\n",
      "Collecting click==7.1.2\n",
      "  Downloading click-7.1.2-py2.py3-none-any.whl (82 kB)\n",
      "\n",
      "The conflict is caused by:\n",
      "    The user requested Flask==1.1.1\n",
      "    The user requested Flask==1.1.2\n",
      "\n",
      "To fix this you could try to:\n",
      "1. loosen the range of package versions you've specified\n",
      "2. remove package versions to allow pip attempt to solve the dependency conflict\n",
      "\n"
     ]
    }
   ],
   "source": [
    "!pip install -r requirements.txt"
   ]
  },
  {
   "cell_type": "code",
   "execution_count": 2,
   "id": "5443be44",
   "metadata": {},
   "outputs": [
    {
     "name": "stdout",
     "output_type": "stream",
     "text": [
      "Requirement already satisfied: urllib3==1.26.5 in c:\\programdata\\anaconda3\\envs\\python_course\\lib\\site-packages (1.26.5)\n"
     ]
    }
   ],
   "source": [
    "!pip install urllib3==1.26.5"
   ]
  },
  {
   "cell_type": "code",
   "execution_count": 2,
   "id": "297d08b8",
   "metadata": {},
   "outputs": [
    {
     "name": "stdout",
     "output_type": "stream",
     "text": [
      "Collecting Flask==1.1.2\n",
      "  Downloading Flask-1.1.2-py2.py3-none-any.whl (94 kB)\n",
      "Requirement already satisfied: Werkzeug>=0.15 in c:\\programdata\\anaconda3\\envs\\python_course\\lib\\site-packages (from Flask==1.1.2) (2.0.3)\n",
      "Requirement already satisfied: click>=5.1 in c:\\programdata\\anaconda3\\envs\\python_course\\lib\\site-packages (from Flask==1.1.2) (8.0.4)\n",
      "Requirement already satisfied: Jinja2>=2.10.1 in c:\\programdata\\anaconda3\\envs\\python_course\\lib\\site-packages (from Flask==1.1.2) (3.0.2)\n",
      "Requirement already satisfied: itsdangerous>=0.24 in c:\\programdata\\anaconda3\\envs\\python_course\\lib\\site-packages (from Flask==1.1.2) (2.1.1)\n",
      "Requirement already satisfied: colorama in c:\\programdata\\anaconda3\\envs\\python_course\\lib\\site-packages (from click>=5.1->Flask==1.1.2) (0.4.4)\n",
      "Requirement already satisfied: MarkupSafe>=2.0 in c:\\programdata\\anaconda3\\envs\\python_course\\lib\\site-packages (from Jinja2>=2.10.1->Flask==1.1.2) (2.0.1)\n",
      "Installing collected packages: Flask\n"
     ]
    },
    {
     "name": "stderr",
     "output_type": "stream",
     "text": [
      "ERROR: pip's dependency resolver does not currently take into account all the packages that are installed. This behaviour is the source of the following dependency conflicts.\n",
      "finmind 1.5.5 requires flask>=2.0.1, but you have flask 1.1.2 which is incompatible.\n"
     ]
    },
    {
     "name": "stdout",
     "output_type": "stream",
     "text": [
      "  Attempting uninstall: Flask\n",
      "    Found existing installation: Flask 2.0.3\n",
      "    Uninstalling Flask-2.0.3:\n",
      "      Successfully uninstalled Flask-2.0.3\n",
      "Successfully installed Flask-1.1.2\n"
     ]
    }
   ],
   "source": [
    "!pip install Flask==1.1.2"
   ]
  },
  {
   "cell_type": "code",
   "execution_count": null,
   "id": "bca8202d",
   "metadata": {},
   "outputs": [],
   "source": []
  }
 ],
 "metadata": {
  "kernelspec": {
   "display_name": "Python 3 (ipykernel)",
   "language": "python",
   "name": "python3"
  },
  "language_info": {
   "codemirror_mode": {
    "name": "ipython",
    "version": 3
   },
   "file_extension": ".py",
   "mimetype": "text/x-python",
   "name": "python",
   "nbconvert_exporter": "python",
   "pygments_lexer": "ipython3",
   "version": "3.8.12"
  }
 },
 "nbformat": 4,
 "nbformat_minor": 5
}
